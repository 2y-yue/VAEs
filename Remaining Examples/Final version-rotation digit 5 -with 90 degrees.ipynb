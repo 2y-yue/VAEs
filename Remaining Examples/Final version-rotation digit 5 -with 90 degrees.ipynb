{
 "cells": [
  {
   "cell_type": "code",
   "execution_count": 12,
   "id": "becoming-alabama",
   "metadata": {},
   "outputs": [],
   "source": [
    "##import the necessary packages.\n",
    "\n",
    "import matplotlib.pyplot as plt\n",
    "import numpy as np\n",
    "%matplotlib inline\n",
    "import tensorflow as tf\n",
    "import pandas as pd\n",
    "from tensorflow import keras\n",
    "import time\n",
    "import math\n",
    "\n",
    "#set the random seed to obtain outcomes.\n",
    "np.random.seed(0)\n",
    "tf.random.set_seed(0)"
   ]
  },
  {
   "cell_type": "markdown",
   "id": "american-price",
   "metadata": {},
   "source": [
    "## Data Generation"
   ]
  },
  {
   "cell_type": "code",
   "execution_count": 13,
   "id": "eleven-firmware",
   "metadata": {},
   "outputs": [],
   "source": [
    "#Extract the MINIST dataset\n",
    "(X_train, y_train), (X_test, y_test) = tf.keras.datasets.mnist.load_data()\n",
    "\n",
    "#change into black and white\n",
    "X_train = X_train.astype(np.float32) / 255\n",
    "X_test = X_test.astype(np.float32) / 255\n",
    "\n"
   ]
  },
  {
   "cell_type": "code",
   "execution_count": 14,
   "id": "opposed-scholar",
   "metadata": {},
   "outputs": [],
   "source": [
    "#Seperate the different data\n",
    "#discard the label data because of unsupervised learning\n",
    "digit1_train=X_train[y_train==1]\n",
    "digit2_train=X_train[y_train==2]\n",
    "digit3_train=X_train[y_train==3]\n",
    "digit4_train=X_train[y_train==4]\n",
    "digit5_train=X_train[y_train==5]\n",
    "digit6_train=X_train[y_train==6]\n",
    "digit7_train=X_train[y_train==7]\n",
    "digit8_train=X_train[y_train==8]\n",
    "digit9_train=X_train[y_train==9]\n",
    "digit0_train=X_train[y_train==0]\n",
    "\n",
    "\n",
    "digit1_test=X_test[y_test==1]\n",
    "digit2_test=X_test[y_test==2]\n",
    "digit3_test=X_test[y_test==3]\n",
    "digit4_test=X_test[y_test==4]\n",
    "digit5_test=X_test[y_test==5]\n",
    "digit6_test=X_test[y_test==6]\n",
    "digit7_test=X_test[y_test==7]\n",
    "digit8_test=X_test[y_test==8]\n",
    "digit9_test=X_test[y_test==9]\n",
    "digit0_test=X_test[y_test==0]"
   ]
  },
  {
   "cell_type": "code",
   "execution_count": null,
   "id": "senior-character",
   "metadata": {},
   "outputs": [],
   "source": []
  },
  {
   "cell_type": "code",
   "execution_count": 15,
   "id": "inner-vertical",
   "metadata": {},
   "outputs": [],
   "source": [
    "angle_list=[30,60,120,150,210,240,300,330]\n"
   ]
  },
  {
   "cell_type": "code",
   "execution_count": 16,
   "id": "eligible-offense",
   "metadata": {},
   "outputs": [],
   "source": [
    "#define a rotation function \n",
    "#it rotates the image with the list of angle.\n",
    "def rotation(angle_list,inputs):\n",
    "    output_list=[]\n",
    "    height=inputs[0].shape[0]                                   #define the height of the image\n",
    "    width=inputs[0].shape[1]\n",
    "    for k in range(inputs.shape[0]):\n",
    "        for angle in angle_list:\n",
    "            angle=math.radians(angle)                               #converting degrees to radians\n",
    "            cosine=math.cos(angle)\n",
    "            sine=math.sin(angle)\n",
    "            # Define the height and width of the new image that is to be formed\n",
    "            new_height  = round(abs(inputs[k].shape[0]*cosine)+abs(inputs[k].shape[1]*sine))+1\n",
    "            new_width  = round(abs(inputs[k].shape[1]*cosine)+abs(inputs[k].shape[0]*sine))+1\n",
    "    \n",
    "            # define another image variable of dimensions of new_height and new _column filled with zeros\n",
    "            output=np.zeros((new_height,new_width))#,image.shape[2]))\n",
    "        \n",
    "            # Find the centre of the image about which we have to rotate the image\n",
    "            original_centre_height   = round(((inputs[k].shape[0]+1)/2)-1)    #with respect to the original image\n",
    "            original_centre_width    = round(((inputs[k].shape[1]+1)/2)-1)    #with respect to the original image\n",
    "    \n",
    "            # Find the centre of the new image that will be obtained\n",
    "            new_centre_height= round(((new_height+1)/2)-1)        #with respect to the new image\n",
    "            new_centre_width= round(((new_width+1)/2)-1)          #with respect to the new image\n",
    "        \n",
    "            for i in range(height):\n",
    "                for j in range(width):\n",
    "                    #co-ordinates of pixel with respect to the centre of original image\n",
    "                    y=inputs[k].shape[0]-1-i-original_centre_height                   \n",
    "                    x=inputs[k].shape[1]-1-j-original_centre_width\n",
    "                    \n",
    "                    #Here we need round it back into intergers because of pixels.\n",
    "                    new_y=round(-x*sine+y*cosine)\n",
    "                    new_x=round(x*cosine+y*sine)\n",
    "                \n",
    "                    new_y=new_centre_height-new_y\n",
    "                    new_x=new_centre_width-new_x\n",
    "                    ###check \n",
    "                    if 0 <= new_x < new_width and 0 <= new_y < new_height and new_x>=0 and new_y>=0:\n",
    "                        output[new_y,new_x]=inputs[k,i,j]\n",
    "            output_list.append(output)\n",
    "    output_list=np.asarray(output_list)\n",
    "    return output_list"
   ]
  },
  {
   "cell_type": "code",
   "execution_count": 17,
   "id": "refined-onion",
   "metadata": {},
   "outputs": [
    {
     "name": "stdout",
     "output_type": "stream",
     "text": [
      "CPU times: user 59.1 s, sys: 1.24 s, total: 1min\n",
      "Wall time: 1min 3s\n"
     ]
    }
   ],
   "source": [
    "%%time\n",
    "output_list_digit5=rotation(angle_list,digit5_train)"
   ]
  },
  {
   "cell_type": "code",
   "execution_count": 18,
   "id": "curious-grenada",
   "metadata": {},
   "outputs": [],
   "source": [
    "#Define a function to plot pixels.\n",
    "def plot_image(image):\n",
    "    plt.imshow(image, cmap=\"gray\")\n",
    "    plt.axis(\"off\")"
   ]
  },
  {
   "cell_type": "code",
   "execution_count": 19,
   "id": "adult-editor",
   "metadata": {},
   "outputs": [],
   "source": [
    "angle_list=[0,90,180,270]\n",
    "output_list_digit5_r=rotation(angle_list,digit5_train)"
   ]
  },
  {
   "cell_type": "code",
   "execution_count": null,
   "id": "precious-logan",
   "metadata": {},
   "outputs": [],
   "source": []
  },
  {
   "cell_type": "code",
   "execution_count": 20,
   "id": "celtic-serbia",
   "metadata": {},
   "outputs": [
    {
     "data": {
      "image/png": "[encoded data removed]",
      "text/plain": [
       "<Figure size 576x1080 with 12 Axes>"
      ]
     },
     "metadata": {
      "needs_background": "light"
     },
     "output_type": "display_data"
    }
   ],
   "source": [
    "#Show randomly selected observations motion trajectory in frames.\n",
    "#The angle in angle list is all not a multiple of 90 degree\n",
    "fig = plt.figure(figsize=(8, 15))\n",
    "index=list(range(0,8,2))\n",
    "index_=list(range(0,12,3))\n",
    "for image_index in range(4):\n",
    "    plt.subplot(8, 3, index_[image_index]+1)\n",
    "    plot_image(output_list_digit5[index[image_index]])\n",
    "for image_index in range(4):\n",
    "    plt.subplot(8, 3, index_[image_index]+2)\n",
    "    plot_image(output_list_digit5[12+index[image_index]])\n",
    "for image_index in range(4):\n",
    "    plt.subplot(8, 3, index_[image_index]+3)\n",
    "    plot_image(output_list_digit5[120+index[image_index]])\n",
    "#plt.savefig('digit5.jpg')"
   ]
  },
  {
   "cell_type": "code",
   "execution_count": 21,
   "id": "selected-vatican",
   "metadata": {},
   "outputs": [
    {
     "data": {
      "image/png": "[encoded data removed]",
      "text/plain": [
       "<Figure size 576x1080 with 12 Axes>"
      ]
     },
     "metadata": {
      "needs_background": "light"
     },
     "output_type": "display_data"
    }
   ],
   "source": [
    "#Show randomly selected observations motion trajectory in frames.\n",
    "#The angle in angle list is all a multiple of 90 degree\n",
    "fig = plt.figure(figsize=(8, 15))\n",
    "index=list(range(4))\n",
    "index_=list(range(0,24,3))\n",
    "for image_index in range(4):\n",
    "    plt.subplot(8, 3, index_[image_index]+1)\n",
    "    plot_image(output_list_digit5_r[index[image_index]])\n",
    "for image_index in range(4):\n",
    "    plt.subplot(8, 3, index_[image_index]+2)\n",
    "    plot_image(output_list_digit5_r[12+index[image_index]])\n",
    "for image_index in range(4):\n",
    "    plt.subplot(8, 3, index_[image_index]+3)\n",
    "    plot_image(output_list_digit5_r[120+index[image_index]])\n",
    "#plt.savefig('digit5_90.jpg')"
   ]
  },
  {
   "cell_type": "code",
   "execution_count": 22,
   "id": "executed-edmonton",
   "metadata": {},
   "outputs": [
    {
     "data": {
      "text/plain": [
       "(43368, 39, 39)"
      ]
     },
     "execution_count": 22,
     "metadata": {},
     "output_type": "execute_result"
    }
   ],
   "source": [
    "output_list_digit5.shape"
   ]
  },
  {
   "cell_type": "code",
   "execution_count": 23,
   "id": "diverse-compromise",
   "metadata": {},
   "outputs": [
    {
     "data": {
      "text/plain": [
       "(21684, 29, 29)"
      ]
     },
     "execution_count": 23,
     "metadata": {},
     "output_type": "execute_result"
    }
   ],
   "source": [
    "output_list_digit5_r.shape"
   ]
  },
  {
   "cell_type": "code",
   "execution_count": 24,
   "id": "failing-vegetarian",
   "metadata": {},
   "outputs": [],
   "source": [
    "x_train=output_list_digit5[:30000,:]\n",
    "x_valid=output_list_digit5[30000:43368,:]"
   ]
  },
  {
   "cell_type": "code",
   "execution_count": 25,
   "id": "enabling-large",
   "metadata": {},
   "outputs": [],
   "source": [
    "x_train=output_list_digit5_r[:15000,:]\n",
    "x_valid=output_list_digit5_r[15000:21684,:]"
   ]
  },
  {
   "cell_type": "code",
   "execution_count": 26,
   "id": "prostate-genome",
   "metadata": {},
   "outputs": [],
   "source": [
    "#define the loss function\n",
    "def rounded_accuracy(y_true, y_pred):\n",
    "    return keras.metrics.binary_accuracy(tf.round(y_true), tf.round(y_pred))"
   ]
  },
  {
   "cell_type": "code",
   "execution_count": 27,
   "id": "forbidden-cookie",
   "metadata": {},
   "outputs": [],
   "source": [
    "#define the Gaussian distribution according to Reparameterization Trick in order to calculate latent variable z\n",
    "K = keras.backend\n",
    "class Sampling(keras.layers.Layer):\n",
    "    def call(self, inputs):\n",
    "        mean, log_var = inputs\n",
    "        return K.random_normal(tf.shape(log_var)) * K.exp(log_var / 2) + mean "
   ]
  },
  {
   "cell_type": "code",
   "execution_count": 28,
   "id": "durable-labor",
   "metadata": {},
   "outputs": [],
   "source": [
    "#define a function to show reconstructions according to the diversity of latent space dimensionality.\n",
    "#here we only focus on the dimension of latent variable \n",
    "\n",
    "\n",
    "#Here we pre-defined the VAE layers so that the shape need to be manually adjusted\n",
    "def VAE(codings_size_val):\n",
    "    tf.random.set_seed(42)\n",
    "    np.random.seed(42)\n",
    "    ###latent space dimension\n",
    "    codings_size = codings_size_val\n",
    "    #Encoder\n",
    "    inputs = keras.layers.Input(shape=[29, 29])          #pixels according to the inputs\n",
    "    z = keras.layers.Flatten()(inputs)                   #Flatten the features\n",
    "    z = keras.layers.Dense(150, activation=\"selu\")(z)    #fully connected Layer 1\n",
    "    z = keras.layers.Dense(100, activation=\"selu\")(z)    #fully connected Layer 2\n",
    "    codings_mean = keras.layers.Dense(codings_size)(z)   #Latent space\n",
    "    codings_log_var = keras.layers.Dense(codings_size)(z)#Sampling Gaussian distribution\n",
    "    codings = Sampling()([codings_mean, codings_log_var])\n",
    "    variational_encoder = keras.models.Model(\n",
    "        inputs=[inputs], outputs=[codings_mean, codings_log_var, codings])\n",
    "    ###########################################################################\n",
    "    #Decoder\n",
    "    decoder_inputs = keras.layers.Input(shape=[codings_size])\n",
    "    x = keras.layers.Dense(100, activation=\"selu\")(decoder_inputs)     #fully connected Layer 1\n",
    "    x = keras.layers.Dense(150, activation=\"selu\")(x)                  #fully connected Layer 2\n",
    "    x = keras.layers.Dense(29 * 29, activation=\"sigmoid\")(x)           #Output Layer\n",
    "    outputs = keras.layers.Reshape([29, 29])(x)\n",
    "    variational_decoder = keras.models.Model(inputs=[decoder_inputs], outputs=[outputs]) #combined encoder and decoder\n",
    "    ###########################################################################\n",
    "    _, _, codings = variational_encoder(inputs)\n",
    "    reconstructions = variational_decoder(codings) #how to structure reconstructions\n",
    "    variational_ae = keras.models.Model(inputs=[inputs], outputs=[reconstructions])\n",
    "    ###########################################################################\n",
    "    #regularization term\n",
    "    latent_loss = -0.5 * K.sum(\n",
    "        1 + codings_log_var - K.exp(codings_log_var) - K.square(codings_mean),\n",
    "        axis=-1)\n",
    "    variational_ae.add_loss(K.mean(latent_loss) / 841.) \n",
    "    variational_ae.compile(loss=\"binary_crossentropy\", optimizer=\"rmsprop\",metrics=[rounded_accuracy])\n",
    "    #return the model\n",
    "    return variational_ae"
   ]
  },
  {
   "cell_type": "code",
   "execution_count": 37,
   "id": "vertical-castle",
   "metadata": {},
   "outputs": [],
   "source": [
    "#define a function to show reconstructions \n",
    "def show_reconstructions(model, images=x_valid, n_images=4):\n",
    "    #counts=images.shape[0]/12\n",
    "    #randoms=np.random.randint(0,counts,n_images)\n",
    "    #index=12 * randoms\n",
    "    #index=list(range(12))\n",
    "    ids=[0,6680]\n",
    "    index=list(range(ids[0],ids[0]+n_images))+list(range(ids[1],ids[1]+n_images))\n",
    "    reconstructions = model.predict(images[index])\n",
    "    fig = plt.figure(figsize=(n_images * 3, 5))\n",
    "    \n",
    "    for image_index in range(n_images):\n",
    "        plt.subplot(2, n_images, 1 + image_index)\n",
    "        plt.title('Original image')\n",
    "        plot_image(images[index[image_index]])\n",
    "        plt.subplot(2, n_images, 1 + n_images + image_index)\n",
    "        plot_image(reconstructions[image_index])\n",
    "        plt.title('Reconstructed image')\n",
    "\n",
    "\n"
   ]
  },
  {
   "cell_type": "code",
   "execution_count": 38,
   "id": "canadian-joining",
   "metadata": {},
   "outputs": [
    {
     "data": {
      "text/plain": [
       "(6684, 29, 29)"
      ]
     },
     "execution_count": 38,
     "metadata": {},
     "output_type": "execute_result"
    }
   ],
   "source": [
    "x_valid.shape"
   ]
  },
  {
   "cell_type": "markdown",
   "id": "wound-capacity",
   "metadata": {},
   "source": [
    "## How we decide the suitable dimensionality of latent space"
   ]
  },
  {
   "cell_type": "code",
   "execution_count": 39,
   "id": "governmental-savage",
   "metadata": {},
   "outputs": [],
   "source": [
    "Performance_dim=[2,3,5,10]\n",
    "\n",
    "def performance(Performance_dim):\n",
    "    Performance_loss=[]\n",
    "    Performance_time=[]\n",
    "    for i in Performance_dim:\n",
    "        \n",
    "        variational_ae=VAE(i)\n",
    "        import time\n",
    "        time_start=time.time()\n",
    "        history = variational_ae.fit(x_train, x_train, epochs=10,\n",
    "                             validation_data=(x_valid, x_valid),verbose=0)\n",
    "        time_end=time.time()\n",
    "        time=time_end-time_start\n",
    "        Performance_time.append(time)\n",
    "        Performance_loss.append(history.history['loss'][-1])\n",
    "        show_reconstructions(variational_ae)\n",
    "        #plt.savefig('digit5 rotation_dimension'+str(i)+'.jpg')\n",
    "    return Performance_time,Performance_loss"
   ]
  },
  {
   "cell_type": "code",
   "execution_count": 40,
   "id": "executed-example",
   "metadata": {},
   "outputs": [
    {
     "data": {
      "image/png": "[encoded data removed]",
      "text/plain": [
       "<Figure size 864x360 with 8 Axes>"
      ]
     },
     "metadata": {
      "needs_background": "light"
     },
     "output_type": "display_data"
    },
    {
     "data": {
      "image/png": "[encoded data removed]",
      "text/plain": [
       "<Figure size 864x360 with 8 Axes>"
      ]
     },
     "metadata": {
      "needs_background": "light"
     },
     "output_type": "display_data"
    },
    {
     "data": {
      "image/png": "[encoded data removed]",
      "text/plain": [
       "<Figure size 864x360 with 8 Axes>"
      ]
     },
     "metadata": {
      "needs_background": "light"
     },
     "output_type": "display_data"
    },
    {
     "data": {
      "image/png": "[encoded data removed]",
      "text/plain": [
       "<Figure size 864x360 with 8 Axes>"
      ]
     },
     "metadata": {
      "needs_background": "light"
     },
     "output_type": "display_data"
    }
   ],
   "source": [
    "#Here we trained the rotation degree is not a multiple of 90 degree\n",
    "Performance_time,Performance_loss=performance(Performance_dim)"
   ]
  },
  {
   "cell_type": "code",
   "execution_count": null,
   "id": "strange-judges",
   "metadata": {},
   "outputs": [],
   "source": [
    "performance = pd.DataFrame({'Dimension': Performance_dim,'loss': Performance_loss, 'time':Performance_time})\n",
    "performance"
   ]
  },
  {
   "cell_type": "markdown",
   "id": "conscious-publication",
   "metadata": {},
   "source": [
    "## How to identify the underlying meaning of latent variables in chosen latent space? "
   ]
  },
  {
   "cell_type": "code",
   "execution_count": null,
   "id": "initial-secretary",
   "metadata": {},
   "outputs": [],
   "source": [
    "tf.random.set_seed(42)\n",
    "np.random.seed(42)\n",
    "\n",
    "#############################################\n",
    "#according to the previous outcome \n",
    "#the latent space dimensionality determined \n",
    "codings_size = 3\n",
    "\n",
    "inputs = keras.layers.Input(shape=[39, 39])\n",
    "z = keras.layers.Flatten()(inputs)\n",
    "z = keras.layers.Dense(150, activation=\"selu\")(z)\n",
    "z = keras.layers.Dense(100, activation=\"selu\")(z)\n",
    "codings_mean = keras.layers.Dense(codings_size)(z)\n",
    "codings_log_var = keras.layers.Dense(codings_size)(z)\n",
    "codings = Sampling()([codings_mean, codings_log_var])\n",
    "variational_encoder = keras.models.Model(\n",
    "    inputs=[inputs], outputs=[codings_mean, codings_log_var, codings])\n",
    "###########################################################################\n",
    "decoder_inputs = keras.layers.Input(shape=[codings_size])\n",
    "x = keras.layers.Dense(100, activation=\"selu\")(decoder_inputs)\n",
    "x = keras.layers.Dense(150, activation=\"selu\")(x)\n",
    "x = keras.layers.Dense(39 * 39, activation=\"sigmoid\")(x)\n",
    "outputs = keras.layers.Reshape([39, 39])(x)\n",
    "variational_decoder = keras.models.Model(inputs=[decoder_inputs], outputs=[outputs])\n",
    "###########################################################################\n",
    "_, _, codings = variational_encoder(inputs)\n",
    "reconstructions = variational_decoder(codings)\n",
    "variational_ae = keras.models.Model(inputs=[inputs], outputs=[reconstructions])\n",
    "###########################################################################\n",
    "latent_loss = -0.5 * K.sum(\n",
    "    1 + codings_log_var - K.exp(codings_log_var) - K.square(codings_mean),\n",
    "    axis=-1)\n",
    "variational_ae.add_loss(K.mean(latent_loss) / 1521.)\n",
    "variational_ae.compile(loss=\"binary_crossentropy\", optimizer=\"rmsprop\",metrics=[rounded_accuracy])\n",
    "\n",
    "\n",
    "history = variational_ae.fit(x_train, x_train, epochs=10,\n",
    "                             validation_data=(x_valid, x_valid),verbose=0)\n",
    "latent=variational_encoder(x_valid)[2].numpy()"
   ]
  },
  {
   "cell_type": "code",
   "execution_count": null,
   "id": "broke-blues",
   "metadata": {},
   "outputs": [],
   "source": [
    "#model summary\n",
    "#variational_ae.summary()"
   ]
  },
  {
   "cell_type": "code",
   "execution_count": null,
   "id": "thousand-plastic",
   "metadata": {},
   "outputs": [],
   "source": []
  },
  {
   "cell_type": "code",
   "execution_count": null,
   "id": "delayed-appointment",
   "metadata": {},
   "outputs": [],
   "source": [
    "#summary the statistics of latent variables\n",
    "df=pd.DataFrame(latent)\n",
    "summarys=df.describe()\n",
    "summarys"
   ]
  },
  {
   "cell_type": "markdown",
   "id": "rental-techno",
   "metadata": {},
   "source": [
    "### The sampling about quantitive method"
   ]
  },
  {
   "cell_type": "code",
   "execution_count": null,
   "id": "threaded-campaign",
   "metadata": {},
   "outputs": [],
   "source": [
    "def plot_multiple_images(images, n_cols=None):\n",
    "    n_cols = n_cols or len(images)\n",
    "    n_rows = (len(images) - 1) // n_cols + 1\n",
    "    if images.shape[-1] == 1:\n",
    "        images = np.squeeze(images, axis=-1)\n",
    "    plt.figure(figsize=(10, 10))\n",
    "    for index, image in enumerate(images):\n",
    "        plt.subplot(n_rows, n_cols, index + 1)\n",
    "        plt.imshow(image, cmap=\"binary\")\n",
    "        plt.title('Index '+str(index+1))\n",
    "        plt.axis(\"off\")"
   ]
  },
  {
   "cell_type": "code",
   "execution_count": null,
   "id": "union-queen",
   "metadata": {},
   "outputs": [],
   "source": [
    "#The latent variables of quantitive method to reveal the underlying meaning of latent variables.\n",
    "\n",
    "latent_withoutadjusted=np.zeros((8,3))\n",
    "latent_withoutadjusted1=np.zeros((8,3))\n",
    "latent_withoutadjusted2=np.zeros((8,3))\n",
    "\n",
    "\n",
    "latent_withoutadjusted[:,0]=latent[8:16,0]\n",
    "latent_withoutadjusted1[:,1]=latent[8:16,1]\n",
    "latent_withoutadjusted2[:,2]=latent[8:16,2]\n",
    "\n",
    "for i in range(8):\n",
    "    latent_withoutadjusted[i,1:3]=latent[8,1:3]\n",
    "    latent_withoutadjusted1[i,[0,2]]=latent[8,[0,2]]\n",
    "    latent_withoutadjusted2[i,[0,1]]=latent[8,[0,1]]\n",
    "    \n",
    "latent_withoutadjusted.sort(axis=0)\n",
    "latent_withoutadjusted1.sort(axis=0)\n",
    "latent_withoutadjusted2.sort(axis=0)"
   ]
  },
  {
   "cell_type": "code",
   "execution_count": null,
   "id": "passing-abortion",
   "metadata": {},
   "outputs": [],
   "source": []
  },
  {
   "cell_type": "code",
   "execution_count": null,
   "id": "solved-pakistan",
   "metadata": {},
   "outputs": [],
   "source": []
  },
  {
   "cell_type": "code",
   "execution_count": null,
   "id": "entire-formula",
   "metadata": {},
   "outputs": [],
   "source": []
  },
  {
   "cell_type": "code",
   "execution_count": null,
   "id": "convenient-abuse",
   "metadata": {},
   "outputs": [],
   "source": [
    "latent_adjusted"
   ]
  },
  {
   "cell_type": "code",
   "execution_count": null,
   "id": "double-trinidad",
   "metadata": {},
   "outputs": [],
   "source": [
    "tf.random.set_seed(42)\n",
    "#shape=[number,latent-dimension-size]\n",
    "#codings = tf.random.normal(shape=[12, 5])\n",
    "codings=tf.constant(latent[8:16,:])\n",
    "images = variational_decoder(codings).numpy()\n",
    "plot_multiple_images(images, 4)"
   ]
  },
  {
   "cell_type": "code",
   "execution_count": null,
   "id": "distributed-technical",
   "metadata": {},
   "outputs": [],
   "source": [
    "latent_adjusted"
   ]
  },
  {
   "cell_type": "code",
   "execution_count": null,
   "id": "worse-accountability",
   "metadata": {},
   "outputs": [],
   "source": [
    "tf.random.set_seed(42)\n",
    "#shape=[number,latent-dimension-size]\n",
    "#codings = tf.random.normal(shape=[12, 5])\n",
    "codings=tf.constant(latent_withoutadjusted)\n",
    "images = variational_decoder(codings).numpy()\n",
    "plot_multiple_images(images, 4)\n",
    "plt.savefig('digit5_latent0.jpg')"
   ]
  },
  {
   "cell_type": "code",
   "execution_count": null,
   "id": "monthly-extension",
   "metadata": {},
   "outputs": [],
   "source": []
  },
  {
   "cell_type": "code",
   "execution_count": null,
   "id": "every-tract",
   "metadata": {},
   "outputs": [],
   "source": [
    "latent_adjusted1"
   ]
  },
  {
   "cell_type": "code",
   "execution_count": null,
   "id": "satisfactory-transcription",
   "metadata": {},
   "outputs": [],
   "source": [
    "tf.random.set_seed(42)\n",
    "#shape=[number,latent-dimension-size]\n",
    "#codings = tf.random.normal(shape=[12, 5])\n",
    "codings=tf.constant(latent_withoutadjusted1)\n",
    "images = variational_decoder(codings).numpy()\n",
    "plot_multiple_images(images, 4)\n",
    "plt.savefig('digit5_latent1.jpg')"
   ]
  },
  {
   "cell_type": "code",
   "execution_count": null,
   "id": "amateur-cycling",
   "metadata": {},
   "outputs": [],
   "source": [
    "latent_adjusted2"
   ]
  },
  {
   "cell_type": "code",
   "execution_count": null,
   "id": "experimental-poultry",
   "metadata": {},
   "outputs": [],
   "source": [
    "tf.random.set_seed(42)\n",
    "#shape=[number,latent-dimension-size]\n",
    "#codings = tf.random.normal(shape=[12, 5])\n",
    "codings=tf.constant(latent_withoutadjusted2)\n",
    "images = variational_decoder(codings).numpy()\n",
    "plot_multiple_images(images, 4)\n",
    "plt.savefig('digit5_latent2.jpg')"
   ]
  },
  {
   "cell_type": "code",
   "execution_count": null,
   "id": "radical-supplement",
   "metadata": {},
   "outputs": [],
   "source": []
  },
  {
   "cell_type": "code",
   "execution_count": null,
   "id": "advisory-liberia",
   "metadata": {},
   "outputs": [],
   "source": [
    "# more examples\n",
    "\n",
    "latent_copy=np.zeros((8,3))\n",
    "\n",
    "latent_copy1=np.zeros((8,3))\n",
    "latent_copy2=np.zeros((8,3))\n",
    "\n",
    "\n",
    "latent_copy[:,0]=latent[24:32,0]\n",
    "latent_copy1[:,1]=latent[24:32,1]\n",
    "latent_copy2[:,2]=latent[24:32,2]\n",
    "\n",
    "for i in range(8):\n",
    "    latent_copy[i,1:3]=latent[24,1:3]\n",
    "    latent_copy1[i,[0,2]]=latent[24,[0,2]]\n",
    "    latent_copy2[i,[0,1]]=latent[24,[0,1]]\n",
    "    \n",
    "latent_copy.sort(axis=0)\n",
    "latent_copy1.sort(axis=0)\n",
    "latent_copy2.sort(axis=0)"
   ]
  },
  {
   "cell_type": "code",
   "execution_count": null,
   "id": "demographic-steal",
   "metadata": {},
   "outputs": [],
   "source": [
    "tf.random.set_seed(42)\n",
    "#shape=[number,latent-dimension-size]\n",
    "#codings = tf.random.normal(shape=[12, 5])\n",
    "codings=tf.constant(latent[24:36])\n",
    "images = variational_decoder(codings).numpy()\n",
    "plot_multiple_images(images, 4)"
   ]
  },
  {
   "cell_type": "code",
   "execution_count": null,
   "id": "binary-drink",
   "metadata": {},
   "outputs": [],
   "source": []
  },
  {
   "cell_type": "code",
   "execution_count": null,
   "id": "numerous-processor",
   "metadata": {},
   "outputs": [],
   "source": [
    "latent_copy"
   ]
  },
  {
   "cell_type": "code",
   "execution_count": null,
   "id": "leading-writer",
   "metadata": {},
   "outputs": [],
   "source": [
    "tf.random.set_seed(42)\n",
    "#shape=[number,latent-dimension-size]\n",
    "#codings = tf.random.normal(shape=[12, 5])\n",
    "codings=tf.constant(latent_copy1)\n",
    "images = variational_decoder(codings).numpy()\n",
    "plot_multiple_images(images, 4)"
   ]
  },
  {
   "cell_type": "code",
   "execution_count": null,
   "id": "minus-sending",
   "metadata": {},
   "outputs": [],
   "source": []
  },
  {
   "cell_type": "code",
   "execution_count": null,
   "id": "unknown-webcam",
   "metadata": {},
   "outputs": [],
   "source": [
    "latent_copy2"
   ]
  },
  {
   "cell_type": "code",
   "execution_count": null,
   "id": "appointed-silicon",
   "metadata": {},
   "outputs": [],
   "source": [
    "tf.random.set_seed(42)\n",
    "#shape=[number,latent-dimension-size]\n",
    "#codings = tf.random.normal(shape=[12, 5])\n",
    "codings=tf.constant(latent_copy2)\n",
    "images = variational_decoder(codings).numpy()\n",
    "plot_multiple_images(images, 4)"
   ]
  },
  {
   "cell_type": "code",
   "execution_count": null,
   "id": "familiar-omega",
   "metadata": {},
   "outputs": [],
   "source": []
  },
  {
   "cell_type": "code",
   "execution_count": null,
   "id": "crazy-sharp",
   "metadata": {},
   "outputs": [],
   "source": []
  },
  {
   "cell_type": "code",
   "execution_count": null,
   "id": "resident-coordinator",
   "metadata": {},
   "outputs": [],
   "source": [
    "import matplotlib.colors as colors\n",
    "import matplotlib.cm as cmx\n",
    "\n",
    "np.random.seed(1)\n",
    "randoms=np.random.randint(0,1114,5)\n",
    "#transparent\n",
    "alphas=[0.75, 0.75, 0.6, 0.5, 0.5]\n",
    "#color\n",
    "cmap_list=['Blues_r','Purples_r','Greens_r','Oranges_r','spring_r','gray']\n",
    "plt.figure(figsize=(10, 10))\n",
    "plt.grid(True)\n",
    "for i in range(5):\n",
    "    cmap = plt.cm.jet\n",
    "    cNorm  = colors.Normalize(vmin=0, vmax=8)\n",
    "    scalarMap = cmx.ScalarMappable(norm=cNorm,cmap=plt.get_cmap(cmap_list[i]))\n",
    "    \n",
    "    for j in range(7):  \n",
    "        \n",
    "        colorVal = scalarMap.to_rgba(j)\n",
    "        plt.scatter(latent[randoms[i]*8][1], latent[randoms[i]*8][0],marker='x',color=scalarMap.to_rgba(0) ,s=50)\n",
    "        plt.arrow(latent[randoms[i]*8+j][1], latent[randoms[i]*8+j][0], \n",
    "                  latent[randoms[i]*8+j+1,1]-latent[randoms[i]*8+j,1], latent[randoms[i]*8+j+1,0]-latent[randoms[i]*8+j,0], \n",
    "                  length_includes_head=True, head_width=0.1, lw=2,alpha=alphas[i],\n",
    "                  color=colorVal)\n",
    "plt.xlabel('Latent variable 1')\n",
    "plt.ylabel('Latent variable 0')\n",
    "plt.savefig('digit5_motion_2d.jpg')"
   ]
  },
  {
   "cell_type": "code",
   "execution_count": null,
   "id": "opposite-longitude",
   "metadata": {},
   "outputs": [],
   "source": [
    "cmap_list=['Blues_r','Purples_r','Greens_r','Oranges_r','spring_r','gray']\n",
    "fig=plt.figure(figsize=(10, 10))\n",
    "ax = fig.add_subplot(111, projection='3d')\n",
    "for i in range(5):\n",
    "    cmap = plt.cm.jet\n",
    "    cNorm  = colors.Normalize(vmin=0, vmax=10)\n",
    "    scalarMap = cmx.ScalarMappable(norm=cNorm,cmap=plt.get_cmap(cmap_list[i]))\n",
    "    ax.scatter(latent[randoms[i]*8][0], latent[randoms[i]*8][1],latent[randoms[i]*8][2],marker='x',color=scalarMap.to_rgba(0),s=50)\n",
    "    ax.scatter(latent[randoms[i]*8+7][0], latent[randoms[i]*8+7][1],latent[randoms[i]*8+7][2],marker='h',color=scalarMap.to_rgba(7),s=100)\n",
    "    for j in range(8): \n",
    "        colorVal = scalarMap.to_rgba(j)\n",
    "        ax.scatter(latent[randoms[i]*8+j,0],latent[randoms[i]*8+j,1],latent[randoms[i]*8+j,2],color=colorVal)\n",
    "    for k in range(7):\n",
    "        colorVal = scalarMap.to_rgba(k)\n",
    "        ax.plot3D(latent[randoms[i]*8+k:randoms[i]*8+k+2,0],latent[randoms[i]*8+k:randoms[i]*8+k+2,1],latent[randoms[i]*8+k:randoms[i]*8+k+2,2],\n",
    "                  color=colorVal,alpha=alphas[i],)  \n",
    "ax.set_xlabel('Latent variable 0')\n",
    "ax.set_ylabel('Latent variable 1')\n",
    "ax.set_zlabel('Latent variable 2')\n",
    "plt.savefig('digit5_motion_3d.jpg')\n",
    "plt.show()\n",
    "\n",
    "\n"
   ]
  },
  {
   "cell_type": "code",
   "execution_count": null,
   "id": "stopped-emission",
   "metadata": {},
   "outputs": [],
   "source": [
    "cmap_list=['Blues_r','Purples_r','Greens_r','Oranges_r','spring_r','gray']\n",
    "plt.figure(figsize=(10, 10))\n",
    "plt.grid(True)\n",
    "ids=0\n",
    "for i in range(5):\n",
    "    cmap = plt.cm.jet\n",
    "    cNorm  = colors.Normalize(vmin=0, vmax=10)\n",
    "    scalarMap = cmx.ScalarMappable(norm=cNorm,cmap=plt.get_cmap(cmap_list[i]))\n",
    "    for j in range(7):        \n",
    "        colorVal = scalarMap.to_rgba(j)\n",
    "        plt.arrow(latent[randoms[i]*8+j][0], i, latent[randoms[i]*8+j+1,0]-latent[randoms[i]*8+j,0], 0, \n",
    "                  length_includes_head=True, head_width=0.1, lw=2,\n",
    "                  color=colorVal)\n",
    "    ids+=1\n",
    "plt.xlabel('Latent variable 0')\n",
    "plt.ylabel('Index')\n",
    "plt.savefig('digit5_motion_1d1.jpg')"
   ]
  },
  {
   "cell_type": "code",
   "execution_count": null,
   "id": "binding-afghanistan",
   "metadata": {},
   "outputs": [],
   "source": [
    "cmap_list=['Blues_r','Purples_r','Greens_r','Oranges_r','spring_r','gray']\n",
    "plt.figure(figsize=(10, 10))\n",
    "plt.grid(True)\n",
    "ids=0\n",
    "for i in range(5):\n",
    "    cmap = plt.cm.jet\n",
    "    cNorm  = colors.Normalize(vmin=0, vmax=10)\n",
    "    scalarMap = cmx.ScalarMappable(norm=cNorm,cmap=plt.get_cmap(cmap_list[i]))\n",
    "    for j in range(7):        \n",
    "        colorVal = scalarMap.to_rgba(j)\n",
    "        plt.arrow(latent[randoms[i]*8+j][1], i, latent[randoms[i]*8+j+1,1]-latent[randoms[i]*8+j,1], 0, \n",
    "                  length_includes_head=True, head_width=0.1, lw=2,\n",
    "                  color=colorVal)\n",
    "    ids+=1\n",
    "plt.xlabel('Latent variable 1')\n",
    "plt.ylabel('Index')\n",
    "plt.savefig('digit5_motion_1d2.jpg')"
   ]
  },
  {
   "cell_type": "code",
   "execution_count": null,
   "id": "spectacular-bolivia",
   "metadata": {},
   "outputs": [],
   "source": []
  }
 ],
 "metadata": {
  "kernelspec": {
   "display_name": "Python 3",
   "language": "python",
   "name": "python3"
  },
  "language_info": {
   "codemirror_mode": {
    "name": "ipython",
    "version": 3
   },
   "file_extension": ".py",
   "mimetype": "text/x-python",
   "name": "python",
   "nbconvert_exporter": "python",
   "pygments_lexer": "ipython3",
   "version": "3.8.5"
  }
 },
 "nbformat": 4,
 "nbformat_minor": 5
}
