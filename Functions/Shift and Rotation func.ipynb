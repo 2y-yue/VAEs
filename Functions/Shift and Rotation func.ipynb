{
 "cells": [
  {
   "cell_type": "code",
   "execution_count": null,
   "id": "wired-genius",
   "metadata": {},
   "outputs": [],
   "source": [
    "##import the necessary packages.\n",
    "\n",
    "import matplotlib.pyplot as plt\n",
    "import numpy as np\n",
    "%matplotlib inline\n",
    "import tensorflow as tf\n",
    "import pandas as pd\n",
    "from tensorflow import keras\n",
    "import time\n",
    "import math"
   ]
  },
  {
   "cell_type": "code",
   "execution_count": null,
   "id": "interim-accused",
   "metadata": {},
   "outputs": [],
   "source": [
    "def Shift_h(shift,inputs):\n",
    "    #shift horizontally function \n",
    "    rows,cols=inputs.shape[1:3]\n",
    "    data_train=[]\n",
    "    for k in range(inputs.shape[0]):\n",
    "        for i in range(0,shift):\n",
    "            zeros=np.zeros((rows,cols+shift))\n",
    "            zeros[:rows,i:i+cols]=inputs[k]\n",
    "            data_train.append(zeros)\n",
    "    data_train=np.asarray(data_train)\n",
    "    return data_train"
   ]
  },
  {
   "cell_type": "code",
   "execution_count": null,
   "id": "conditional-poland",
   "metadata": {},
   "outputs": [],
   "source": [
    "#define a rotation function \n",
    "#it rotates the image with the list of angle.\n",
    "def rotation(angle_list,inputs):\n",
    "    output_list=[]\n",
    "    height=inputs[0].shape[0]                                   #define the height of the image\n",
    "    width=inputs[0].shape[1]\n",
    "    for k in range(inputs.shape[0]):\n",
    "        for angle in angle_list:\n",
    "            angle=math.radians(angle)                               #converting degrees to radians\n",
    "            cosine=math.cos(angle)\n",
    "            sine=math.sin(angle)\n",
    "            # Define the height and width of the new image that is to be formed\n",
    "            new_height  = round(abs(inputs[k].shape[0]*cosine)+abs(inputs[k].shape[1]*sine))+1\n",
    "            new_width  = round(abs(inputs[k].shape[1]*cosine)+abs(inputs[k].shape[0]*sine))+1\n",
    "    \n",
    "            # define another image variable of dimensions of new_height and new _column filled with zeros\n",
    "            output=np.zeros((new_height,new_width))#,image.shape[2]))\n",
    "        \n",
    "            # Find the centre of the image about which we have to rotate the image\n",
    "            original_centre_height   = round(((inputs[k].shape[0]+1)/2)-1)    #with respect to the original image\n",
    "            original_centre_width    = round(((inputs[k].shape[1]+1)/2)-1)    #with respect to the original image\n",
    "    \n",
    "            # Find the centre of the new image that will be obtained\n",
    "            new_centre_height= round(((new_height+1)/2)-1)        #with respect to the new image\n",
    "            new_centre_width= round(((new_width+1)/2)-1)          #with respect to the new image\n",
    "        \n",
    "            for i in range(height):\n",
    "                for j in range(width):\n",
    "                    #co-ordinates of pixel with respect to the centre of original image\n",
    "                    y=inputs[k].shape[0]-1-i-original_centre_height                   \n",
    "                    x=inputs[k].shape[1]-1-j-original_centre_width\n",
    "                    \n",
    "                    #Here we need round it back into intergers because of pixels.\n",
    "                    new_y=round(-x*sine+y*cosine)\n",
    "                    new_x=round(x*cosine+y*sine)\n",
    "                \n",
    "                    new_y=new_centre_height-new_y\n",
    "                    new_x=new_centre_width-new_x\n",
    "                    ###check \n",
    "                    if 0 <= new_x < new_width and 0 <= new_y < new_height and new_x>=0 and new_y>=0:\n",
    "                        output[new_y,new_x]=inputs[k,i,j]\n",
    "            output_list.append(output)\n",
    "    output_list=np.asarray(output_list)\n",
    "    return output_list"
   ]
  }
 ],
 "metadata": {
  "kernelspec": {
   "display_name": "Python 3",
   "language": "python",
   "name": "python3"
  },
  "language_info": {
   "codemirror_mode": {
    "name": "ipython",
    "version": 3
   },
   "file_extension": ".py",
   "mimetype": "text/x-python",
   "name": "python",
   "nbconvert_exporter": "python",
   "pygments_lexer": "ipython3",
   "version": "3.8.5"
  }
 },
 "nbformat": 4,
 "nbformat_minor": 5
}
