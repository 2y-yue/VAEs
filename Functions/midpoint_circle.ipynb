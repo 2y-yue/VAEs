{
 "cells": [
  {
   "cell_type": "code",
   "execution_count": 1,
   "id": "familiar-drinking",
   "metadata": {},
   "outputs": [],
   "source": [
    "import numpy as np"
   ]
  },
  {
   "cell_type": "code",
   "execution_count": 8,
   "id": "cubic-shape",
   "metadata": {},
   "outputs": [],
   "source": [
    "#applying the Midpoint Circle Algorithm\n",
    "\n",
    "#the radius: the objective circle radius\n",
    "#the height: the rows in pixels\n",
    "#the width:  the columns in pixels\n",
    "def Midpoint_circle(radius,height,width):\n",
    "    pair=[]\n",
    "    #central point of pixels\n",
    "    centre_height   = round(((height+1)/2)-1)    #with respect to the original image\n",
    "    centre_width    = round(((width+1)/2)-1) \n",
    "    E= -radius\n",
    "    X= radius\n",
    "    Y = 0\n",
    "    while Y<=X:\n",
    "        #remove the shift in order to simplify the mirror reflection\n",
    "        x=X\n",
    "        y=Y\n",
    "        #mirror reflection \n",
    "        pair.append((x,y))\n",
    "        pair.append((y,x))\n",
    "        \n",
    "        pair.append((x,-y))\n",
    "        pair.append((y,-x))\n",
    "        \n",
    "        pair.append((-x,y))\n",
    "        pair.append((-y,x))\n",
    "        \n",
    "        pair.append((-x,-y))\n",
    "        pair.append((-y,-x))    \n",
    "        \n",
    "        E+=2*Y+1\n",
    "        Y+=1\n",
    "        if E >= 0:\n",
    "            E=E-2*X+1 \n",
    "            X=X-1\n",
    "    #add the shift       \n",
    "    pair_shifted=[]\n",
    "    for i in range(len(pair)):\n",
    "        pair_shifted.append((pair[i][0]+centre_width,pair[i][1]+centre_height))\n",
    "    #remove duplicated records,\n",
    "    pair_new=[]\n",
    "    \n",
    "    for i in pair_shifted:\n",
    "        if i not in pair_new:\n",
    "            pair_new.append(i)\n",
    "    #pair_orderd=np.append(ranked,ranked2,axis=0)\n",
    "    return pair_new"
   ]
  },
  {
   "cell_type": "code",
   "execution_count": null,
   "id": "favorite-satisfaction",
   "metadata": {},
   "outputs": [],
   "source": []
  },
  {
   "cell_type": "code",
   "execution_count": 9,
   "id": "armed-chick",
   "metadata": {},
   "outputs": [],
   "source": [
    "#Let us taking examples to test\n",
    "radius=9\n",
    "height=19\n",
    "width=19\n",
    "pair=Midpoint_circle(radius,height,width)"
   ]
  },
  {
   "cell_type": "code",
   "execution_count": 34,
   "id": "limiting-momentum",
   "metadata": {},
   "outputs": [
    {
     "data": {
      "image/png": "[encoded data removed]",
      "text/plain": [
       "<Figure size 432x288 with 1 Axes>"
      ]
     },
     "metadata": {
      "needs_background": "light"
     },
     "output_type": "display_data"
    }
   ],
   "source": [
    "frame=np.zeros((height,width))\n",
    "for i in range(len(pair)):\n",
    "    frame[pair[i][0],pair[i][1]]=1\n",
    "import matplotlib.pyplot as plt\n",
    "plt.imshow(frame,cmap=\"gray\")\n",
    "#plt.savefig('circles.jpg')"
   ]
  },
  {
   "cell_type": "code",
   "execution_count": null,
   "id": "expressed-government",
   "metadata": {},
   "outputs": [],
   "source": []
  },
  {
   "cell_type": "code",
   "execution_count": null,
   "id": "adaptive-study",
   "metadata": {},
   "outputs": [],
   "source": []
  },
  {
   "cell_type": "code",
   "execution_count": 32,
   "id": "embedded-easter",
   "metadata": {},
   "outputs": [
    {
     "data": {
      "text/plain": [
       "<matplotlib.image.AxesImage at 0x7fad7049b1c0>"
      ]
     },
     "execution_count": 32,
     "metadata": {},
     "output_type": "execute_result"
    },
    {
     "data": {
      "image/png": "[encoded data removed]",
      "text/plain": [
       "<Figure size 432x288 with 1 Axes>"
      ]
     },
     "metadata": {
      "needs_background": "light"
     },
     "output_type": "display_data"
    }
   ],
   "source": [
    "#use color to see signle point motion\n",
    "point_motion=np.zeros((height,width))\n",
    "for i in range(len(pair)):\n",
    "    point_motion[pair[i][0],pair[i][1]]=i\n",
    "import matplotlib.pyplot as plt\n",
    "plt.imshow(point_motion,cmap=\"BuGn\")"
   ]
  },
  {
   "cell_type": "code",
   "execution_count": null,
   "id": "daily-asset",
   "metadata": {},
   "outputs": [],
   "source": []
  },
  {
   "cell_type": "code",
   "execution_count": null,
   "id": "cheap-antibody",
   "metadata": {},
   "outputs": [],
   "source": []
  },
  {
   "cell_type": "code",
   "execution_count": null,
   "id": "sensitive-representative",
   "metadata": {},
   "outputs": [],
   "source": []
  },
  {
   "cell_type": "code",
   "execution_count": null,
   "id": "speaking-beijing",
   "metadata": {},
   "outputs": [],
   "source": []
  },
  {
   "cell_type": "code",
   "execution_count": null,
   "id": "egyptian-fields",
   "metadata": {},
   "outputs": [],
   "source": []
  },
  {
   "cell_type": "code",
   "execution_count": null,
   "id": "loose-museum",
   "metadata": {},
   "outputs": [],
   "source": []
  },
  {
   "cell_type": "code",
   "execution_count": null,
   "id": "informed-impact",
   "metadata": {},
   "outputs": [],
   "source": []
  },
  {
   "cell_type": "code",
   "execution_count": null,
   "id": "leading-casino",
   "metadata": {},
   "outputs": [],
   "source": []
  },
  {
   "cell_type": "code",
   "execution_count": null,
   "id": "protective-uzbekistan",
   "metadata": {},
   "outputs": [],
   "source": []
  },
  {
   "cell_type": "code",
   "execution_count": null,
   "id": "dedicated-appreciation",
   "metadata": {},
   "outputs": [],
   "source": []
  },
  {
   "cell_type": "code",
   "execution_count": null,
   "id": "prescribed-words",
   "metadata": {},
   "outputs": [],
   "source": []
  },
  {
   "cell_type": "code",
   "execution_count": null,
   "id": "danish-diploma",
   "metadata": {},
   "outputs": [],
   "source": []
  },
  {
   "cell_type": "code",
   "execution_count": null,
   "id": "ambient-status",
   "metadata": {},
   "outputs": [],
   "source": []
  },
  {
   "cell_type": "code",
   "execution_count": null,
   "id": "fifth-response",
   "metadata": {},
   "outputs": [],
   "source": []
  },
  {
   "cell_type": "code",
   "execution_count": null,
   "id": "super-puppy",
   "metadata": {},
   "outputs": [],
   "source": []
  }
 ],
 "metadata": {
  "kernelspec": {
   "display_name": "Python 3",
   "language": "python",
   "name": "python3"
  },
  "language_info": {
   "codemirror_mode": {
    "name": "ipython",
    "version": 3
   },
   "file_extension": ".py",
   "mimetype": "text/x-python",
   "name": "python",
   "nbconvert_exporter": "python",
   "pygments_lexer": "ipython3",
   "version": "3.8.5"
  }
 },
 "nbformat": 4,
 "nbformat_minor": 5
}
